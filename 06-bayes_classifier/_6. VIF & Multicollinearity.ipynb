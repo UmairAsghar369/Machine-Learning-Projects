{
 "cells": [
  {
   "cell_type": "code",
   "execution_count": 3,
   "id": "071a51e0-c578-4b17-9701-cd69a8233e42",
   "metadata": {},
   "outputs": [],
   "source": [
    "import pandas as pd\n",
    "import statsmodels.api as sm\n",
    "from sklearn.datasets import fetch_california_housing\n",
    "\n",
    "from statsmodels.stats.outliers_influence import variance_inflation_factor\n"
   ]
  },
  {
   "cell_type": "code",
   "execution_count": 4,
   "id": "8d9dda30-9e0d-4338-bb29-9ed0c6c57312",
   "metadata": {},
   "outputs": [],
   "source": [
    "data = fetch_california_housing()\n",
    "X = pd.DataFrame(data.data, columns=data.feature_names)\n",
    "y = data.target\n"
   ]
  },
  {
   "cell_type": "code",
   "execution_count": 5,
   "id": "998b6e2b-e065-4ce7-a250-f618d42f4216",
   "metadata": {},
   "outputs": [
    {
     "name": "stdout",
     "output_type": "stream",
     "text": [
      "     Variable           VIF\n",
      "0       const  17082.623698\n",
      "1      MedInc      2.501295\n",
      "2    HouseAge      1.241254\n",
      "3    AveRooms      8.342786\n",
      "4   AveBedrms      6.994995\n",
      "5  Population      1.138125\n",
      "6    AveOccup      1.008324\n",
      "7    Latitude      9.297624\n",
      "8   Longitude      8.962263\n"
     ]
    }
   ],
   "source": [
    "X_const = sm.add_constant(X)\n",
    "vif = pd.DataFrame()\n",
    "vif[\"Variable\"] = X_const.columns\n",
    "vif[\"VIF\"] = [variance_inflation_factor(X_const.values, i) for i in range(X_const.shape[1])]\n",
    "print(vif)"
   ]
  },
  {
   "cell_type": "code",
   "execution_count": 8,
   "id": "630cd082-e3ce-4972-b023-87dbb7482ca6",
   "metadata": {},
   "outputs": [
    {
     "name": "stdout",
     "output_type": "stream",
     "text": [
      "                            OLS Regression Results                            \n",
      "==============================================================================\n",
      "Dep. Variable:                      y   R-squared:                       0.600\n",
      "Model:                            OLS   Adj. R-squared:                  0.600\n",
      "Method:                 Least Squares   F-statistic:                     4419.\n",
      "Date:                Tue, 19 Aug 2025   Prob (F-statistic):               0.00\n",
      "Time:                        03:34:53   Log-Likelihood:                -22789.\n",
      "No. Observations:               20640   AIC:                         4.559e+04\n",
      "Df Residuals:                   20632   BIC:                         4.566e+04\n",
      "Df Model:                           7                                         \n",
      "Covariance Type:            nonrobust                                         \n",
      "==============================================================================\n",
      "                 coef    std err          t      P>|t|      [0.025      0.975]\n",
      "------------------------------------------------------------------------------\n",
      "const        -39.6804      0.647    -61.360      0.000     -40.948     -38.413\n",
      "MedInc         0.3796      0.003    134.623      0.000       0.374       0.385\n",
      "HouseAge       0.0098      0.000     21.802      0.000       0.009       0.011\n",
      "AveBedrms      0.1723      0.011     15.640      0.000       0.151       0.194\n",
      "Population -6.726e-07   4.78e-06     -0.141      0.888      -1e-05     8.7e-06\n",
      "AveOccup      -0.0036      0.000     -7.316      0.000      -0.005      -0.003\n",
      "Latitude      -0.4627      0.007    -67.209      0.000      -0.476      -0.449\n",
      "Longitude     -0.4709      0.007    -64.321      0.000      -0.485      -0.457\n",
      "==============================================================================\n",
      "Omnibus:                     4475.997   Durbin-Watson:                   0.811\n",
      "Prob(Omnibus):                  0.000   Jarque-Bera (JB):            11913.723\n",
      "Skew:                           1.168   Prob(JB):                         0.00\n",
      "Kurtosis:                       5.897   Cond. No.                     2.32e+05\n",
      "==============================================================================\n",
      "\n",
      "Notes:\n",
      "[1] Standard Errors assume that the covariance matrix of the errors is correctly specified.\n",
      "[2] The condition number is large, 2.32e+05. This might indicate that there are\n",
      "strong multicollinearity or other numerical problems.\n"
     ]
    }
   ],
   "source": [
    "\n",
    "X_new = X.drop(\"AveRooms\", axis=1)\n",
    "X_new_const = sm.add_constant(X_new)\n",
    "model = sm.OLS(y, X_new_const).fit()\n",
    "print(model.summary())"
   ]
  },
  {
   "cell_type": "code",
   "execution_count": null,
   "id": "0a163147-2940-4647-af36-55a69db53a99",
   "metadata": {},
   "outputs": [],
   "source": []
  }
 ],
 "metadata": {
  "kernelspec": {
   "display_name": "Python 3 (ipykernel)",
   "language": "python",
   "name": "python3"
  },
  "language_info": {
   "codemirror_mode": {
    "name": "ipython",
    "version": 3
   },
   "file_extension": ".py",
   "mimetype": "text/x-python",
   "name": "python",
   "nbconvert_exporter": "python",
   "pygments_lexer": "ipython3",
   "version": "3.13.5"
  }
 },
 "nbformat": 4,
 "nbformat_minor": 5
}
