{
 "cells": [
  {
   "cell_type": "code",
   "execution_count": 3,
   "id": "ed493c47-255d-4991-b114-e31567a0ec01",
   "metadata": {},
   "outputs": [],
   "source": [
    "from sklearn.datasets import fetch_california_housing\n",
    "from sklearn.model_selection import train_test_split\n",
    "from sklearn.linear_model import LinearRegression\n",
    "import pandas as pd"
   ]
  },
  {
   "cell_type": "code",
   "execution_count": 4,
   "id": "af8a548b-6932-40ca-902f-2dff7c85d2ee",
   "metadata": {},
   "outputs": [],
   "source": [
    "california = fetch_california_housing(as_frame=True)\n",
    "X = california.data\n",
    "y = california.target"
   ]
  },
  {
   "cell_type": "code",
   "execution_count": 13,
   "id": "53be6254-ad97-4e58-999c-67e823529fef",
   "metadata": {},
   "outputs": [
    {
     "name": "stdout",
     "output_type": "stream",
     "text": [
      "      Feature  Coefficient\n",
      "0      MedInc     0.448675\n",
      "1    HouseAge     0.009724\n",
      "2    AveRooms    -0.123323\n",
      "3   AveBedrms     0.783145\n",
      "4  Population    -0.000002\n",
      "5    AveOccup    -0.003526\n",
      "6    Latitude    -0.419792\n",
      "7   Longitude    -0.433708\n"
     ]
    }
   ],
   "source": [
    "X_train, X_test, y_train, y_test = train_test_split(X, y, test_size=0.2, random_state = 42)\n",
    "\n",
    "model = LinearRegression()\n",
    "model.fit(X_train, y_train)\n",
    "\n",
    "coefficients = pd.DataFrame({\"Feature\": X.columns, \"Coefficient\": model.coef_})\n",
    "\n",
    "print(coefficients)"
   ]
  },
  {
   "cell_type": "code",
   "execution_count": null,
   "id": "bf94f509-ab0d-4cbf-a98e-4e4b78a1b144",
   "metadata": {},
   "outputs": [],
   "source": []
  }
 ],
 "metadata": {
  "kernelspec": {
   "display_name": "Python 3 (ipykernel)",
   "language": "python",
   "name": "python3"
  },
  "language_info": {
   "codemirror_mode": {
    "name": "ipython",
    "version": 3
   },
   "file_extension": ".py",
   "mimetype": "text/x-python",
   "name": "python",
   "nbconvert_exporter": "python",
   "pygments_lexer": "ipython3",
   "version": "3.13.5"
  }
 },
 "nbformat": 4,
 "nbformat_minor": 5
}
