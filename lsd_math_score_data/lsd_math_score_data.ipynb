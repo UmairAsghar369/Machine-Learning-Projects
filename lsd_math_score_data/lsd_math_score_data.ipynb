{
  "metadata": {
    "kernelspec": {
      "name": "python",
      "display_name": "Python (Pyodide)",
      "language": "python"
    },
    "language_info": {
      "codemirror_mode": {
        "name": "python",
        "version": 3
      },
      "file_extension": ".py",
      "mimetype": "text/x-python",
      "name": "python",
      "nbconvert_exporter": "python",
      "pygments_lexer": "ipython3",
      "version": "3.8"
    }
  },
  "nbformat_minor": 5,
  "nbformat": 4,
  "cells": [
    {
      "id": "cbb82ae9-1d41-4e94-8ee2-42cff742cde0",
      "cell_type": "code",
      "source": "import pandas",
      "metadata": {
        "trusted": true
      },
      "outputs": [],
      "execution_count": 2
    },
    {
      "id": "c50c52f3-66d1-4d84-97d8-d3bc66433f20",
      "cell_type": "code",
      "source": "data = pandas.read_csv('9.1 lsd_math_score_data.csv')",
      "metadata": {
        "trusted": true
      },
      "outputs": [],
      "execution_count": 3
    },
    {
      "id": "29c9e73f-72c7-4e5e-8d53-d273e027c917",
      "cell_type": "code",
      "source": "print(data)",
      "metadata": {
        "trusted": true
      },
      "outputs": [
        {
          "name": "stdout",
          "output_type": "stream",
          "text": "   Time_Delay_in_Minutes  LSD_ppm  Avg_Math_Test_Score\n0                      5     1.17                78.93\n1                     15     2.97                58.20\n2                     30     3.26                67.47\n3                     60     4.69                37.47\n4                    120     5.83                45.65\n5                    240     6.00                32.92\n6                    480     6.41                29.97\n"
        }
      ],
      "execution_count": 4
    },
    {
      "id": "f7f31ffa-a5b2-4abd-bc32-43569ed5f611",
      "cell_type": "code",
      "source": "type(data)",
      "metadata": {
        "trusted": true
      },
      "outputs": [
        {
          "execution_count": 7,
          "output_type": "execute_result",
          "data": {
            "text/plain": "pandas.core.frame.DataFrame"
          },
          "metadata": {}
        }
      ],
      "execution_count": 7
    },
    {
      "id": "759882d3-cf3c-415b-8b6f-41f058197e77",
      "cell_type": "code",
      "source": "onlyMathScore = data['Avg_Math_Test_Score']\nprint(onlyMathScore)",
      "metadata": {
        "trusted": true
      },
      "outputs": [
        {
          "name": "stdout",
          "output_type": "stream",
          "text": "0    78.93\n1    58.20\n2    67.47\n3    37.47\n4    45.65\n5    32.92\n6    29.97\nName: Avg_Math_Test_Score, dtype: float64\n"
        }
      ],
      "execution_count": 9
    },
    {
      "id": "c0873d19-86a1-4966-b852-8b47d285e1b4",
      "cell_type": "code",
      "source": "data['Test_Subject'] = 'Jenifer lopez'",
      "metadata": {
        "trusted": true
      },
      "outputs": [],
      "execution_count": 10
    },
    {
      "id": "986aec44-17e0-429c-9e95-14726ef30304",
      "cell_type": "code",
      "source": "print(data)",
      "metadata": {
        "trusted": true
      },
      "outputs": [
        {
          "name": "stdout",
          "output_type": "stream",
          "text": "   Time_Delay_in_Minutes  LSD_ppm  Avg_Math_Test_Score   Test_Subject\n0                      5     1.17                78.93  Jenifer lopez\n1                     15     2.97                58.20  Jenifer lopez\n2                     30     3.26                67.47  Jenifer lopez\n3                     60     4.69                37.47  Jenifer lopez\n4                    120     5.83                45.65  Jenifer lopez\n5                    240     6.00                32.92  Jenifer lopez\n6                    480     6.41                29.97  Jenifer lopez\n"
        }
      ],
      "execution_count": 11
    },
    {
      "id": "00df6507-76cc-463c-b020-143236c60083",
      "cell_type": "code",
      "source": "data['High_Score'] = 100",
      "metadata": {
        "trusted": true
      },
      "outputs": [],
      "execution_count": 12
    },
    {
      "id": "c0ef9a5b-96c1-4fb2-9b04-a833aa72ccd3",
      "cell_type": "code",
      "source": "print(data)",
      "metadata": {
        "trusted": true
      },
      "outputs": [
        {
          "name": "stdout",
          "output_type": "stream",
          "text": "   Time_Delay_in_Minutes  LSD_ppm  Avg_Math_Test_Score   Test_Subject  \\\n0                      5     1.17                78.93  Jenifer lopez   \n1                     15     2.97                58.20  Jenifer lopez   \n2                     30     3.26                67.47  Jenifer lopez   \n3                     60     4.69                37.47  Jenifer lopez   \n4                    120     5.83                45.65  Jenifer lopez   \n5                    240     6.00                32.92  Jenifer lopez   \n6                    480     6.41                29.97  Jenifer lopez   \n\n   High_Score  \n0         100  \n1         100  \n2         100  \n3         100  \n4         100  \n5         100  \n6         100  \n"
        }
      ],
      "execution_count": 13
    },
    {
      "id": "89d7e998-5f97-445f-a2eb-9e6fbd55e23e",
      "cell_type": "code",
      "source": "data['High_Score'] = data['High_Score'] + data['Avg_Math_Test_Score']",
      "metadata": {
        "trusted": true
      },
      "outputs": [],
      "execution_count": 15
    },
    {
      "id": "76f8a553-799b-4f81-ad70-c92b6c231ebb",
      "cell_type": "code",
      "source": "print(data)",
      "metadata": {
        "trusted": true
      },
      "outputs": [
        {
          "name": "stdout",
          "output_type": "stream",
          "text": "   Time_Delay_in_Minutes  LSD_ppm  Avg_Math_Test_Score   Test_Subject  \\\n0                      5     1.17                78.93  Jenifer lopez   \n1                     15     2.97                58.20  Jenifer lopez   \n2                     30     3.26                67.47  Jenifer lopez   \n3                     60     4.69                37.47  Jenifer lopez   \n4                    120     5.83                45.65  Jenifer lopez   \n5                    240     6.00                32.92  Jenifer lopez   \n6                    480     6.41                29.97  Jenifer lopez   \n\n   High_Score  \n0      178.93  \n1      158.20  \n2      167.47  \n3      137.47  \n4      145.65  \n5      132.92  \n6      129.97  \n"
        }
      ],
      "execution_count": 16
    },
    {
      "id": "71669e53-af90-49bc-b68d-eaab9cafe545",
      "cell_type": "code",
      "source": "data['High_Score'] = data['High_Score'] **2",
      "metadata": {
        "trusted": true
      },
      "outputs": [],
      "execution_count": 17
    },
    {
      "id": "a3e7354c-6e20-4081-ae35-eb534350f84d",
      "cell_type": "code",
      "source": "print(data)",
      "metadata": {
        "trusted": true
      },
      "outputs": [
        {
          "name": "stdout",
          "output_type": "stream",
          "text": "   Time_Delay_in_Minutes  LSD_ppm  Avg_Math_Test_Score   Test_Subject  \\\n0                      5     1.17                78.93  Jenifer lopez   \n1                     15     2.97                58.20  Jenifer lopez   \n2                     30     3.26                67.47  Jenifer lopez   \n3                     60     4.69                37.47  Jenifer lopez   \n4                    120     5.83                45.65  Jenifer lopez   \n5                    240     6.00                32.92  Jenifer lopez   \n6                    480     6.41                29.97  Jenifer lopez   \n\n   High_Score  \n0  32015.9449  \n1  25027.2400  \n2  28046.2009  \n3  18898.0009  \n4  21213.9225  \n5  17667.7264  \n6  16892.2009  \n"
        }
      ],
      "execution_count": 18
    },
    {
      "id": "721d892d-7e7d-4656-978e-1af42c85b447",
      "cell_type": "code",
      "source": "type(onlyMathScore)",
      "metadata": {
        "trusted": true
      },
      "outputs": [
        {
          "execution_count": 19,
          "output_type": "execute_result",
          "data": {
            "text/plain": "pandas.core.series.Series"
          },
          "metadata": {}
        }
      ],
      "execution_count": 19
    },
    {
      "id": "74c78f8f-397f-40e2-9986-31c79d70efa9",
      "cell_type": "code",
      "source": "# columnList = ['LSD_ppm', 'Avg_Math_Test_Score']\ncleanData = data[['LSD_ppm', 'Avg_Math_Test_Score']]\nprint(cleanData)",
      "metadata": {
        "trusted": true
      },
      "outputs": [
        {
          "name": "stdout",
          "output_type": "stream",
          "text": "   LSD_ppm  Avg_Math_Test_Score\n0     1.17                78.93\n1     2.97                58.20\n2     3.26                67.47\n3     4.69                37.47\n4     5.83                45.65\n5     6.00                32.92\n6     6.41                29.97\n"
        }
      ],
      "execution_count": 23
    },
    {
      "id": "9e30f2b2-176d-4d6b-9aaa-0b94889f5cf4",
      "cell_type": "code",
      "source": "type(cleanData)",
      "metadata": {
        "trusted": true
      },
      "outputs": [
        {
          "execution_count": 24,
          "output_type": "execute_result",
          "data": {
            "text/plain": "pandas.core.frame.DataFrame"
          },
          "metadata": {}
        }
      ],
      "execution_count": 24
    },
    {
      "id": "1db2570d-1300-4f33-96c0-550e3b775549",
      "cell_type": "code",
      "source": "y = data[['Avg_Math_Test_Score']]",
      "metadata": {
        "trusted": true
      },
      "outputs": [],
      "execution_count": 27
    },
    {
      "id": "215a988d-2ee1-4f59-bbad-84ef3ca8d234",
      "cell_type": "code",
      "source": "type(y)",
      "metadata": {
        "trusted": true
      },
      "outputs": [
        {
          "execution_count": 28,
          "output_type": "execute_result",
          "data": {
            "text/plain": "pandas.core.frame.DataFrame"
          },
          "metadata": {}
        }
      ],
      "execution_count": 28
    },
    {
      "id": "6688a268-a11a-4a8e-a270-1ce6349dff29",
      "cell_type": "code",
      "source": "y = data['Avg_Math_Test_Score']",
      "metadata": {
        "trusted": true
      },
      "outputs": [],
      "execution_count": 29
    },
    {
      "id": "e2763aa8-2d08-44b3-bc02-705858279337",
      "cell_type": "code",
      "source": "type(y)",
      "metadata": {
        "trusted": true
      },
      "outputs": [
        {
          "execution_count": 31,
          "output_type": "execute_result",
          "data": {
            "text/plain": "pandas.core.series.Series"
          },
          "metadata": {}
        }
      ],
      "execution_count": 31
    },
    {
      "id": "368c36d5-4220-4221-9c30-75a0bb09686a",
      "cell_type": "code",
      "source": "X = data[['LSD_ppm']]",
      "metadata": {
        "trusted": true
      },
      "outputs": [],
      "execution_count": 32
    },
    {
      "id": "ed065d78-d38a-49de-bc46-04f4bf157fab",
      "cell_type": "code",
      "source": "type(X)",
      "metadata": {
        "trusted": true
      },
      "outputs": [
        {
          "execution_count": 33,
          "output_type": "execute_result",
          "data": {
            "text/plain": "pandas.core.frame.DataFrame"
          },
          "metadata": {}
        }
      ],
      "execution_count": 33
    },
    {
      "id": "f0c4c445-6210-4150-af47-06ee59f1436f",
      "cell_type": "code",
      "source": "print(X)",
      "metadata": {
        "trusted": true
      },
      "outputs": [
        {
          "name": "stdout",
          "output_type": "stream",
          "text": "   LSD_ppm\n0     1.17\n1     2.97\n2     3.26\n3     4.69\n4     5.83\n5     6.00\n6     6.41\n"
        }
      ],
      "execution_count": 34
    },
    {
      "id": "7d1bf408-09f7-4757-982f-68cc754aeade",
      "cell_type": "code",
      "source": "del data['Test_Subject']",
      "metadata": {
        "trusted": true
      },
      "outputs": [],
      "execution_count": 36
    },
    {
      "id": "73f355ac-40c0-4fb1-ac85-a4f36a27c7c6",
      "cell_type": "code",
      "source": "print(data)",
      "metadata": {
        "trusted": true
      },
      "outputs": [
        {
          "name": "stdout",
          "output_type": "stream",
          "text": "   Time_Delay_in_Minutes  LSD_ppm  Avg_Math_Test_Score  High_Score\n0                      5     1.17                78.93  32015.9449\n1                     15     2.97                58.20  25027.2400\n2                     30     3.26                67.47  28046.2009\n3                     60     4.69                37.47  18898.0009\n4                    120     5.83                45.65  21213.9225\n5                    240     6.00                32.92  17667.7264\n6                    480     6.41                29.97  16892.2009\n"
        }
      ],
      "execution_count": 37
    },
    {
      "id": "8611f2a7-5d63-4a5b-bb38-971be4633689",
      "cell_type": "code",
      "source": "import math",
      "metadata": {
        "trusted": true
      },
      "outputs": [],
      "execution_count": 3
    },
    {
      "id": "ef687d59-4523-439c-aeea-7d4d6dc3bd83",
      "cell_type": "code",
      "source": "print(math.pi)",
      "metadata": {
        "trusted": true
      },
      "outputs": [
        {
          "name": "stdout",
          "output_type": "stream",
          "text": "3.141592653589793\n"
        }
      ],
      "execution_count": 4
    },
    {
      "id": "3332d0ea-d448-4d87-aede-71f7dddd52bb",
      "cell_type": "code",
      "source": "print(math.e)",
      "metadata": {
        "trusted": true
      },
      "outputs": [
        {
          "name": "stdout",
          "output_type": "stream",
          "text": "2.718281828459045\n"
        }
      ],
      "execution_count": 5
    },
    {
      "id": "bfea38af-40de-4d8f-96d5-dfd469a08d6f",
      "cell_type": "code",
      "source": "def get_milk():\n    print('open Door')\n    print('Walk to the store')\n    print('Buy milk from ground floor')\n    print('Return back home with milk')",
      "metadata": {
        "trusted": true
      },
      "outputs": [],
      "execution_count": 6
    },
    {
      "id": "b3dd209d-ebac-48b3-8dc2-94d1e9c07335",
      "cell_type": "code",
      "source": "get_milk()",
      "metadata": {
        "trusted": true
      },
      "outputs": [
        {
          "name": "stdout",
          "output_type": "stream",
          "text": "open Door\nWalk to the store\nBuy milk from ground floor\nReturn back home with milk\n"
        }
      ],
      "execution_count": 7
    },
    {
      "id": "9a7a1113-45cd-4cdf-a0cb-b49ad101e62e",
      "cell_type": "code",
      "source": "def fill_the_fridge(amount):\n    print('Open the fridge ')\n    print('Buy '+amount+' cartons of milk ')\n    print('Close fridge ')",
      "metadata": {
        "trusted": true
      },
      "outputs": [],
      "execution_count": 22
    },
    {
      "id": "d4695b90-a209-49bd-9049-68471a2129ee",
      "cell_type": "code",
      "source": "fill_the_fridge('Five')",
      "metadata": {
        "trusted": true
      },
      "outputs": [
        {
          "name": "stdout",
          "output_type": "stream",
          "text": "Open the fridge \nBuy Five cartons of milk \nClose fridge \n"
        }
      ],
      "execution_count": 23
    },
    {
      "id": "bbcac499-aed7-4ba3-89ba-a874757265b3",
      "cell_type": "code",
      "source": "def milk_mission(amount,destination):\n    print('Open the fridge ')\n    print('Walk to the '+destination)\n    print('Buy '+amount+' cartons of milk ')\n    print('Close fridge ')",
      "metadata": {
        "trusted": true
      },
      "outputs": [],
      "execution_count": 24
    },
    {
      "id": "96aa5091-29a8-415e-ad50-138486f9a39f",
      "cell_type": "code",
      "source": "milk_mission('Four','Department store')",
      "metadata": {
        "trusted": true
      },
      "outputs": [
        {
          "name": "stdout",
          "output_type": "stream",
          "text": "Open the fridge \nWalk to the Department store\nBuy Four cartons of milk \nClose fridge \n"
        }
      ],
      "execution_count": 25
    },
    {
      "id": "0b257922-076b-4e21-88be-2c305fd44ab2",
      "cell_type": "code",
      "source": "milk_mission(destination = 'Department store',amount ='Four')",
      "metadata": {
        "trusted": true
      },
      "outputs": [
        {
          "name": "stdout",
          "output_type": "stream",
          "text": "Open the fridge \nWalk to the Department store\nBuy Four cartons of milk \nClose fridge \n"
        }
      ],
      "execution_count": 28
    },
    {
      "id": "430081fa-3b37-4637-a201-0bbe62517d05",
      "cell_type": "code",
      "source": "def times(a,b):\n    # result = a*b\n    return a*b",
      "metadata": {
        "trusted": true
      },
      "outputs": [],
      "execution_count": 35
    },
    {
      "id": "a7c6abc9-bab3-4b26-889b-6f5d6b244c80",
      "cell_type": "code",
      "source": "times(3.14,5.09)",
      "metadata": {
        "trusted": true
      },
      "outputs": [
        {
          "execution_count": 34,
          "output_type": "execute_result",
          "data": {
            "text/plain": "15.9826"
          },
          "metadata": {}
        }
      ],
      "execution_count": 34
    },
    {
      "id": "21eaf3e2-c123-4f20-9d78-3cd0a0e9982b",
      "cell_type": "code",
      "source": "times('Ni',4)",
      "metadata": {
        "trusted": true
      },
      "outputs": [
        {
          "execution_count": 36,
          "output_type": "execute_result",
          "data": {
            "text/plain": "'NiNiNiNi'"
          },
          "metadata": {}
        }
      ],
      "execution_count": 36
    },
    {
      "id": "b4bc5c89-e491-4edd-972e-a14bdc28fdc8",
      "cell_type": "code",
      "source": "import this",
      "metadata": {
        "trusted": true
      },
      "outputs": [
        {
          "name": "stdout",
          "output_type": "stream",
          "text": "The Zen of Python, by Tim Peters\n\nBeautiful is better than ugly.\nExplicit is better than implicit.\nSimple is better than complex.\nComplex is better than complicated.\nFlat is better than nested.\nSparse is better than dense.\nReadability counts.\nSpecial cases aren't special enough to break the rules.\nAlthough practicality beats purity.\nErrors should never pass silently.\nUnless explicitly silenced.\nIn the face of ambiguity, refuse the temptation to guess.\nThere should be one-- and preferably only one --obvious way to do it.\nAlthough that way may not be obvious at first unless you're Dutch.\nNow is better than never.\nAlthough never is often better than *right* now.\nIf the implementation is hard to explain, it's a bad idea.\nIf the implementation is easy to explain, it may be a good idea.\nNamespaces are one honking great idea -- let's do more of those!\n"
        }
      ],
      "execution_count": 38
    },
    {
      "id": "bae1aabf-2c0e-4b17-8733-fd9a0c0ad3d2",
      "cell_type": "code",
      "source": "",
      "metadata": {
        "trusted": true
      },
      "outputs": [],
      "execution_count": null
    }
  ]
}